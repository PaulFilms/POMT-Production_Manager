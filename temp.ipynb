{
 "cells": [
  {
   "cell_type": "code",
   "execution_count": 4,
   "id": "77d74c22",
   "metadata": {},
   "outputs": [],
   "source": [
    "from mysqlite import *\n",
    "\n",
    "path_db = r'POMT_production_manager.db'\n",
    "\n",
    "DB = SQL(path_db)\n",
    "\n",
    "DB.insert('usuarios', {'id': 'jvtapia', 'nombre': 'Jorge'})"
   ]
  },
  {
   "cell_type": "code",
   "execution_count": null,
   "id": "93ef5d8d",
   "metadata": {},
   "outputs": [],
   "source": []
  }
 ],
 "metadata": {
  "kernelspec": {
   "display_name": ".venv (3.13.7)",
   "language": "python",
   "name": "python3"
  },
  "language_info": {
   "codemirror_mode": {
    "name": "ipython",
    "version": 3
   },
   "file_extension": ".py",
   "mimetype": "text/x-python",
   "name": "python",
   "nbconvert_exporter": "python",
   "pygments_lexer": "ipython3",
   "version": "3.13.7"
  }
 },
 "nbformat": 4,
 "nbformat_minor": 5
}
